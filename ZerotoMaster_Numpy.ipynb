{
  "nbformat": 4,
  "nbformat_minor": 0,
  "metadata": {
    "colab": {
      "provenance": [],
      "authorship_tag": "ABX9TyPmlvBbcG24X6bPrPzI4A4l"
    },
    "kernelspec": {
      "name": "python3",
      "display_name": "Python 3"
    },
    "language_info": {
      "name": "python"
    }
  },
  "cells": [
    {
      "cell_type": "code",
      "execution_count": 2,
      "metadata": {
        "id": "Pwr-P8WpnOIV"
      },
      "outputs": [],
      "source": [
        "import numpy as np"
      ]
    },
    {
      "cell_type": "markdown",
      "source": [
        "## **Random Seed**\n",
        "\n",
        "---\n",
        "\n",
        "Random seed makes sure the random numbers are reproducible(i.e the same) every time the cell is run, even when the notebook is shared with someone else "
      ],
      "metadata": {
        "id": "oTtOTyEkrXAu"
      }
    },
    {
      "cell_type": "code",
      "source": [
        "# Always generates psuedo random that change on every run of the cell\n",
        "random_array4 = np.random.randint(10, size=(5,3))\n",
        "random_array4"
      ],
      "metadata": {
        "colab": {
          "base_uri": "https://localhost:8080/"
        },
        "id": "t67-LkCfoKkT",
        "outputId": "51d28af6-e57b-4764-e3ba-545071ce432d"
      },
      "execution_count": 3,
      "outputs": [
        {
          "output_type": "execute_result",
          "data": {
            "text/plain": [
              "array([[1, 9, 6],\n",
              "       [3, 5, 0],\n",
              "       [5, 3, 0],\n",
              "       [2, 1, 4],\n",
              "       [9, 5, 9]])"
            ]
          },
          "metadata": {},
          "execution_count": 3
        }
      ]
    },
    {
      "cell_type": "code",
      "source": [
        "# the seed generates a psuedo random array that doesn't change. i.e reproducable\n",
        "np.random.seed(seed=0)\n",
        "random_array4 = np.random.randint(10, size=(5,3))\n",
        "random_array4"
      ],
      "metadata": {
        "colab": {
          "base_uri": "https://localhost:8080/"
        },
        "id": "eTTSoAoyoij6",
        "outputId": "b0e52fae-cfa5-4eef-ef4f-361632e22d72"
      },
      "execution_count": 4,
      "outputs": [
        {
          "output_type": "execute_result",
          "data": {
            "text/plain": [
              "array([[5, 0, 3],\n",
              "       [3, 7, 9],\n",
              "       [3, 5, 2],\n",
              "       [4, 7, 6],\n",
              "       [8, 8, 1]])"
            ]
          },
          "metadata": {},
          "execution_count": 4
        }
      ]
    },
    {
      "cell_type": "code",
      "source": [
        "# the seed number doesn't matter. it just makes the random generation reproducable\n",
        "np.random.seed(seed=67)\n",
        "random_array5 = np.random.randint(10, size=(5,3))\n",
        "random_array5"
      ],
      "metadata": {
        "colab": {
          "base_uri": "https://localhost:8080/"
        },
        "id": "UiVAT_5XqKRb",
        "outputId": "9c192c5c-f386-4250-9112-8f16e98babc6"
      },
      "execution_count": 5,
      "outputs": [
        {
          "output_type": "execute_result",
          "data": {
            "text/plain": [
              "array([[3, 5, 5],\n",
              "       [7, 9, 9],\n",
              "       [3, 6, 9],\n",
              "       [3, 7, 8],\n",
              "       [5, 3, 6]])"
            ]
          },
          "metadata": {},
          "execution_count": 5
        }
      ]
    },
    {
      "cell_type": "code",
      "source": [
        "np.random.seed(seed=8)\n",
        "random_array6 = np.random.rand(5,3)\n",
        "random_array6"
      ],
      "metadata": {
        "colab": {
          "base_uri": "https://localhost:8080/"
        },
        "id": "Z3iuTKF5qy1T",
        "outputId": "8710f5c6-630d-4ee2-aa50-f97537811f94"
      },
      "execution_count": 6,
      "outputs": [
        {
          "output_type": "execute_result",
          "data": {
            "text/plain": [
              "array([[0.8734294 , 0.96854066, 0.86919454],\n",
              "       [0.53085569, 0.23272833, 0.0113988 ],\n",
              "       [0.43046882, 0.40235136, 0.52267467],\n",
              "       [0.4783918 , 0.55535647, 0.54338602],\n",
              "       [0.76089558, 0.71237457, 0.6196821 ]])"
            ]
          },
          "metadata": {},
          "execution_count": 6
        }
      ]
    },
    {
      "cell_type": "markdown",
      "source": [
        "## **Viewing Arrays & Matrices**\n",
        "\n",
        "---"
      ],
      "metadata": {
        "id": "yBW4ibpDrdTu"
      }
    },
    {
      "cell_type": "code",
      "source": [
        "random_array4"
      ],
      "metadata": {
        "colab": {
          "base_uri": "https://localhost:8080/"
        },
        "id": "ni8COSYAq9xY",
        "outputId": "90e2f281-e60a-470d-c12d-12f514fc1af6"
      },
      "execution_count": 7,
      "outputs": [
        {
          "output_type": "execute_result",
          "data": {
            "text/plain": [
              "array([[5, 0, 3],\n",
              "       [3, 7, 9],\n",
              "       [3, 5, 2],\n",
              "       [4, 7, 6],\n",
              "       [8, 8, 1]])"
            ]
          },
          "metadata": {},
          "execution_count": 7
        }
      ]
    },
    {
      "cell_type": "markdown",
      "source": [
        "### Viewing unique elements of an array"
      ],
      "metadata": {
        "id": "9C-Y_DnHs61w"
      }
    },
    {
      "cell_type": "code",
      "source": [
        "np.unique(random_array4)"
      ],
      "metadata": {
        "colab": {
          "base_uri": "https://localhost:8080/"
        },
        "id": "mlcBAuetsu09",
        "outputId": "f69d43e8-1cb6-4583-f031-8783d9451fc7"
      },
      "execution_count": 8,
      "outputs": [
        {
          "output_type": "execute_result",
          "data": {
            "text/plain": [
              "array([0, 1, 2, 3, 4, 5, 6, 7, 8, 9])"
            ]
          },
          "metadata": {},
          "execution_count": 8
        }
      ]
    },
    {
      "cell_type": "markdown",
      "source": [
        "### Generating a few arrays & matrices"
      ],
      "metadata": {
        "id": "loupmdtjt2Kn"
      }
    },
    {
      "cell_type": "code",
      "source": [
        "np.random.seed(seed=1)\n",
        "a1 = np.random.randint(4, size=(3))\n",
        "a1"
      ],
      "metadata": {
        "colab": {
          "base_uri": "https://localhost:8080/"
        },
        "id": "-lKsKwDutJxY",
        "outputId": "0f2cb33f-1e6f-48c9-f87c-31e73348bcd7"
      },
      "execution_count": 9,
      "outputs": [
        {
          "output_type": "execute_result",
          "data": {
            "text/plain": [
              "array([1, 3, 0])"
            ]
          },
          "metadata": {},
          "execution_count": 9
        }
      ]
    },
    {
      "cell_type": "code",
      "source": [
        "np.random.seed(seed=2)\n",
        "a2 = np.random.rand(2,3).round(1)\n",
        "a2"
      ],
      "metadata": {
        "colab": {
          "base_uri": "https://localhost:8080/"
        },
        "id": "yrB919-yuSOc",
        "outputId": "302ef366-e9f4-40a9-da0d-e21c3f6811f2"
      },
      "execution_count": 10,
      "outputs": [
        {
          "output_type": "execute_result",
          "data": {
            "text/plain": [
              "array([[0.4, 0. , 0.5],\n",
              "       [0.4, 0.4, 0.3]])"
            ]
          },
          "metadata": {},
          "execution_count": 10
        }
      ]
    },
    {
      "cell_type": "code",
      "source": [
        "np.random.seed(seed=3)\n",
        "a3 = np.random.randint(20, size=(2,3,3))\n",
        "a3"
      ],
      "metadata": {
        "colab": {
          "base_uri": "https://localhost:8080/"
        },
        "id": "X-ZqLYhsu1Lj",
        "outputId": "73c51b3c-b667-4d8f-a4ec-f904b7636f3f"
      },
      "execution_count": 11,
      "outputs": [
        {
          "output_type": "execute_result",
          "data": {
            "text/plain": [
              "array([[[10,  3,  8],\n",
              "        [ 0, 19, 10],\n",
              "        [11,  9, 10]],\n",
              "\n",
              "       [[ 6,  0, 12],\n",
              "        [ 7, 14, 17],\n",
              "        [ 2,  2,  1]]])"
            ]
          },
          "metadata": {},
          "execution_count": 11
        }
      ]
    },
    {
      "cell_type": "markdown",
      "source": [
        "### Using indexing & slicing to view the array/matrices"
      ],
      "metadata": {
        "id": "-J3VMV45vr00"
      }
    },
    {
      "cell_type": "code",
      "source": [
        "a1[0]"
      ],
      "metadata": {
        "colab": {
          "base_uri": "https://localhost:8080/"
        },
        "id": "fwST6CWWvTcO",
        "outputId": "4d0e76bf-ed93-4397-fd1c-147327f015cc"
      },
      "execution_count": 12,
      "outputs": [
        {
          "output_type": "execute_result",
          "data": {
            "text/plain": [
              "1"
            ]
          },
          "metadata": {},
          "execution_count": 12
        }
      ]
    },
    {
      "cell_type": "code",
      "source": [
        "a2[0]"
      ],
      "metadata": {
        "colab": {
          "base_uri": "https://localhost:8080/"
        },
        "id": "GtFbpCogv7Gc",
        "outputId": "fb562560-5a6f-460a-bbaa-5ebe7a79bd5c"
      },
      "execution_count": 13,
      "outputs": [
        {
          "output_type": "execute_result",
          "data": {
            "text/plain": [
              "array([0.4, 0. , 0.5])"
            ]
          },
          "metadata": {},
          "execution_count": 13
        }
      ]
    },
    {
      "cell_type": "code",
      "source": [
        "a3[0]"
      ],
      "metadata": {
        "colab": {
          "base_uri": "https://localhost:8080/"
        },
        "id": "uxfdVJGjxEbH",
        "outputId": "90419c11-52eb-4e72-e491-fa7104805714"
      },
      "execution_count": 14,
      "outputs": [
        {
          "output_type": "execute_result",
          "data": {
            "text/plain": [
              "array([[10,  3,  8],\n",
              "       [ 0, 19, 10],\n",
              "       [11,  9, 10]])"
            ]
          },
          "metadata": {},
          "execution_count": 14
        }
      ]
    },
    {
      "cell_type": "code",
      "source": [
        "a3"
      ],
      "metadata": {
        "colab": {
          "base_uri": "https://localhost:8080/"
        },
        "id": "Pi1oIvTDxjw2",
        "outputId": "30d14eb0-9d6f-4bee-d446-a2c5c18208d3"
      },
      "execution_count": 15,
      "outputs": [
        {
          "output_type": "execute_result",
          "data": {
            "text/plain": [
              "array([[[10,  3,  8],\n",
              "        [ 0, 19, 10],\n",
              "        [11,  9, 10]],\n",
              "\n",
              "       [[ 6,  0, 12],\n",
              "        [ 7, 14, 17],\n",
              "        [ 2,  2,  1]]])"
            ]
          },
          "metadata": {},
          "execution_count": 15
        }
      ]
    },
    {
      "cell_type": "code",
      "source": [
        "a3.shape,a3.ndim"
      ],
      "metadata": {
        "colab": {
          "base_uri": "https://localhost:8080/"
        },
        "id": "rBeJqKwdzHam",
        "outputId": "23dd5021-17af-4545-83f3-d33b96cc4736"
      },
      "execution_count": 16,
      "outputs": [
        {
          "output_type": "execute_result",
          "data": {
            "text/plain": [
              "((2, 3, 3), 3)"
            ]
          },
          "metadata": {},
          "execution_count": 16
        }
      ]
    },
    {
      "cell_type": "code",
      "source": [
        "a3[:2,:2,:2]"
      ],
      "metadata": {
        "colab": {
          "base_uri": "https://localhost:8080/"
        },
        "id": "39nLR9KzxcdJ",
        "outputId": "0edd7060-2a9a-4de6-e01d-c09396fe0902"
      },
      "execution_count": 17,
      "outputs": [
        {
          "output_type": "execute_result",
          "data": {
            "text/plain": [
              "array([[[10,  3],\n",
              "        [ 0, 19]],\n",
              "\n",
              "       [[ 6,  0],\n",
              "        [ 7, 14]]])"
            ]
          },
          "metadata": {},
          "execution_count": 17
        }
      ]
    },
    {
      "cell_type": "markdown",
      "source": [
        "***Numpy arrays work from the outer most size and works its way in. E.g\n",
        "an array of size (2,3,4,5) means there are 5 elements in each list, there are 4 rows for the list, 3 rows of the inner row(the previous 4 rows) and finally 2 rows for the last inner row(the previous 3 rows)***\n",
        "\n",
        "\n",
        "An example below"
      ],
      "metadata": {
        "id": "btKRov1VyrNo"
      }
    },
    {
      "cell_type": "code",
      "source": [
        "np.random.seed(4)\n",
        "a4 = np.random.randint(20,size=(2,3,4,5))\n",
        "\n",
        "\n",
        "print(a4)\n",
        "print('---------------------')\n",
        "print('Matrix shape is: ', a4.shape)"
      ],
      "metadata": {
        "colab": {
          "base_uri": "https://localhost:8080/"
        },
        "id": "-K8bwL21xgoc",
        "outputId": "2f2d344f-18d4-43ab-b54a-ec1d8473084d"
      },
      "execution_count": 18,
      "outputs": [
        {
          "output_type": "stream",
          "name": "stdout",
          "text": [
            "[[[[14  5  1  8  8]\n",
            "   [18  9  7 13  8]\n",
            "   [ 4 18 12  6 10]\n",
            "   [ 3  0  9  6  6]]\n",
            "\n",
            "  [[ 2 14  8 17  2]\n",
            "   [ 0  8 19 10 13]\n",
            "   [ 1  0 13  3 18]\n",
            "   [19 15  2 18 17]]\n",
            "\n",
            "  [[16 17  9 16 12]\n",
            "   [18  3 11 18  6]\n",
            "   [ 7 13 10  7  9]\n",
            "   [18 19 16 15  4]]]\n",
            "\n",
            "\n",
            " [[[11 19  8  5  8]\n",
            "   [ 7  0  4 11  8]\n",
            "   [ 4  8 17 14  9]\n",
            "   [ 4 18  3  4  7]]\n",
            "\n",
            "  [[ 6  8  0  3 11]\n",
            "   [12 10 17  1 11]\n",
            "   [15 13  0 10  8]\n",
            "   [ 7  6 15  8  0]]\n",
            "\n",
            "  [[18  1 14 10 17]\n",
            "   [ 3  1  3 10 16]\n",
            "   [ 7 19 10  7  9]\n",
            "   [15  9  3 10  2]]]]\n",
            "---------------------\n",
            "Matrix shape is:  (2, 3, 4, 5)\n"
          ]
        }
      ]
    },
    {
      "cell_type": "code",
      "source": [
        "### Get the first 4 numbers of the inner most array\n",
        "\n",
        "a4[:, :, :, :4]"
      ],
      "metadata": {
        "colab": {
          "base_uri": "https://localhost:8080/"
        },
        "id": "R-CK-rD41Pz6",
        "outputId": "2c1bf2ce-266e-41ee-9471-8724cd9b36e5"
      },
      "execution_count": 19,
      "outputs": [
        {
          "output_type": "execute_result",
          "data": {
            "text/plain": [
              "array([[[[14,  5,  1,  8],\n",
              "         [18,  9,  7, 13],\n",
              "         [ 4, 18, 12,  6],\n",
              "         [ 3,  0,  9,  6]],\n",
              "\n",
              "        [[ 2, 14,  8, 17],\n",
              "         [ 0,  8, 19, 10],\n",
              "         [ 1,  0, 13,  3],\n",
              "         [19, 15,  2, 18]],\n",
              "\n",
              "        [[16, 17,  9, 16],\n",
              "         [18,  3, 11, 18],\n",
              "         [ 7, 13, 10,  7],\n",
              "         [18, 19, 16, 15]]],\n",
              "\n",
              "\n",
              "       [[[11, 19,  8,  5],\n",
              "         [ 7,  0,  4, 11],\n",
              "         [ 4,  8, 17, 14],\n",
              "         [ 4, 18,  3,  4]],\n",
              "\n",
              "        [[ 6,  8,  0,  3],\n",
              "         [12, 10, 17,  1],\n",
              "         [15, 13,  0, 10],\n",
              "         [ 7,  6, 15,  8]],\n",
              "\n",
              "        [[18,  1, 14, 10],\n",
              "         [ 3,  1,  3, 10],\n",
              "         [ 7, 19, 10,  7],\n",
              "         [15,  9,  3, 10]]]])"
            ]
          },
          "metadata": {},
          "execution_count": 19
        }
      ]
    },
    {
      "cell_type": "code",
      "source": [
        "### Getting only the first 3 numbers of the inner most array\n",
        "\n",
        "a4[:, :, :, :3]"
      ],
      "metadata": {
        "colab": {
          "base_uri": "https://localhost:8080/"
        },
        "id": "6STSBqPE27-r",
        "outputId": "9ce6c1bf-59b7-4a9c-db72-2a35a63bc217"
      },
      "execution_count": 20,
      "outputs": [
        {
          "output_type": "execute_result",
          "data": {
            "text/plain": [
              "array([[[[14,  5,  1],\n",
              "         [18,  9,  7],\n",
              "         [ 4, 18, 12],\n",
              "         [ 3,  0,  9]],\n",
              "\n",
              "        [[ 2, 14,  8],\n",
              "         [ 0,  8, 19],\n",
              "         [ 1,  0, 13],\n",
              "         [19, 15,  2]],\n",
              "\n",
              "        [[16, 17,  9],\n",
              "         [18,  3, 11],\n",
              "         [ 7, 13, 10],\n",
              "         [18, 19, 16]]],\n",
              "\n",
              "\n",
              "       [[[11, 19,  8],\n",
              "         [ 7,  0,  4],\n",
              "         [ 4,  8, 17],\n",
              "         [ 4, 18,  3]],\n",
              "\n",
              "        [[ 6,  8,  0],\n",
              "         [12, 10, 17],\n",
              "         [15, 13,  0],\n",
              "         [ 7,  6, 15]],\n",
              "\n",
              "        [[18,  1, 14],\n",
              "         [ 3,  1,  3],\n",
              "         [ 7, 19, 10],\n",
              "         [15,  9,  3]]]])"
            ]
          },
          "metadata": {},
          "execution_count": 20
        }
      ]
    },
    {
      "cell_type": "code",
      "source": [
        "### Getting only the topmost list from each row\n",
        "\n",
        "a4[:, :, :1, :]"
      ],
      "metadata": {
        "colab": {
          "base_uri": "https://localhost:8080/"
        },
        "id": "jksr8mYc3DYm",
        "outputId": "7be51be8-60b9-42b5-e5bd-90d074de2eb9"
      },
      "execution_count": 21,
      "outputs": [
        {
          "output_type": "execute_result",
          "data": {
            "text/plain": [
              "array([[[[14,  5,  1,  8,  8]],\n",
              "\n",
              "        [[ 2, 14,  8, 17,  2]],\n",
              "\n",
              "        [[16, 17,  9, 16, 12]]],\n",
              "\n",
              "\n",
              "       [[[11, 19,  8,  5,  8]],\n",
              "\n",
              "        [[ 6,  8,  0,  3, 11]],\n",
              "\n",
              "        [[18,  1, 14, 10, 17]]]])"
            ]
          },
          "metadata": {},
          "execution_count": 21
        }
      ]
    },
    {
      "cell_type": "code",
      "source": [
        "a4"
      ],
      "metadata": {
        "colab": {
          "base_uri": "https://localhost:8080/"
        },
        "id": "HZQzroOA310H",
        "outputId": "48572510-b218-44fa-d5e6-c36d6e4f7768"
      },
      "execution_count": 22,
      "outputs": [
        {
          "output_type": "execute_result",
          "data": {
            "text/plain": [
              "array([[[[14,  5,  1,  8,  8],\n",
              "         [18,  9,  7, 13,  8],\n",
              "         [ 4, 18, 12,  6, 10],\n",
              "         [ 3,  0,  9,  6,  6]],\n",
              "\n",
              "        [[ 2, 14,  8, 17,  2],\n",
              "         [ 0,  8, 19, 10, 13],\n",
              "         [ 1,  0, 13,  3, 18],\n",
              "         [19, 15,  2, 18, 17]],\n",
              "\n",
              "        [[16, 17,  9, 16, 12],\n",
              "         [18,  3, 11, 18,  6],\n",
              "         [ 7, 13, 10,  7,  9],\n",
              "         [18, 19, 16, 15,  4]]],\n",
              "\n",
              "\n",
              "       [[[11, 19,  8,  5,  8],\n",
              "         [ 7,  0,  4, 11,  8],\n",
              "         [ 4,  8, 17, 14,  9],\n",
              "         [ 4, 18,  3,  4,  7]],\n",
              "\n",
              "        [[ 6,  8,  0,  3, 11],\n",
              "         [12, 10, 17,  1, 11],\n",
              "         [15, 13,  0, 10,  8],\n",
              "         [ 7,  6, 15,  8,  0]],\n",
              "\n",
              "        [[18,  1, 14, 10, 17],\n",
              "         [ 3,  1,  3, 10, 16],\n",
              "         [ 7, 19, 10,  7,  9],\n",
              "         [15,  9,  3, 10,  2]]]])"
            ]
          },
          "metadata": {},
          "execution_count": 22
        }
      ]
    },
    {
      "cell_type": "code",
      "source": [
        "### Getting only the topmost list from the outermost row\n",
        "\n",
        "a4[:, :1, :1, :]"
      ],
      "metadata": {
        "colab": {
          "base_uri": "https://localhost:8080/"
        },
        "id": "9JSTH79C3YSE",
        "outputId": "f4adb645-49df-490d-f46d-ad35674906ca"
      },
      "execution_count": 23,
      "outputs": [
        {
          "output_type": "execute_result",
          "data": {
            "text/plain": [
              "array([[[[14,  5,  1,  8,  8]]],\n",
              "\n",
              "\n",
              "       [[[11, 19,  8,  5,  8]]]])"
            ]
          },
          "metadata": {},
          "execution_count": 23
        }
      ]
    },
    {
      "cell_type": "code",
      "source": [
        "a4.shape"
      ],
      "metadata": {
        "colab": {
          "base_uri": "https://localhost:8080/"
        },
        "id": "QaMqX5kG5i9F",
        "outputId": "2dc64e26-b514-4e7f-bd1a-6b7451866be0"
      },
      "execution_count": 24,
      "outputs": [
        {
          "output_type": "execute_result",
          "data": {
            "text/plain": [
              "(2, 3, 4, 5)"
            ]
          },
          "metadata": {},
          "execution_count": 24
        }
      ]
    },
    {
      "cell_type": "code",
      "source": [
        "### Getting only the 3rd list from the outermost row\n",
        "\n",
        "a4[:, 1:2, 2:3, :]"
      ],
      "metadata": {
        "colab": {
          "base_uri": "https://localhost:8080/"
        },
        "id": "rvUTOowO4GGM",
        "outputId": "d05f93d5-eb89-4daf-dbac-e3597a7f0378"
      },
      "execution_count": 25,
      "outputs": [
        {
          "output_type": "execute_result",
          "data": {
            "text/plain": [
              "array([[[[ 1,  0, 13,  3, 18]]],\n",
              "\n",
              "\n",
              "       [[[15, 13,  0, 10,  8]]]])"
            ]
          },
          "metadata": {},
          "execution_count": 25
        }
      ]
    },
    {
      "cell_type": "markdown",
      "source": [
        "## Manipulating Arrays"
      ],
      "metadata": {
        "id": "1_9gPBpfSjlP"
      }
    },
    {
      "cell_type": "markdown",
      "source": [
        "### Arithmetic "
      ],
      "metadata": {
        "id": "-qtjBeBnS5iM"
      }
    },
    {
      "cell_type": "code",
      "source": [
        "a1"
      ],
      "metadata": {
        "colab": {
          "base_uri": "https://localhost:8080/"
        },
        "id": "w19M4fsySpMq",
        "outputId": "c421d22d-c6c2-4dd0-9ded-ea24081c6214"
      },
      "execution_count": 26,
      "outputs": [
        {
          "output_type": "execute_result",
          "data": {
            "text/plain": [
              "array([1, 3, 0])"
            ]
          },
          "metadata": {},
          "execution_count": 26
        }
      ]
    },
    {
      "cell_type": "code",
      "source": [
        "ones = np.ones(3)\n",
        "ones"
      ],
      "metadata": {
        "colab": {
          "base_uri": "https://localhost:8080/"
        },
        "id": "faJpLrELTALp",
        "outputId": "9f0f6620-d45c-4bcd-8bd5-001faa5be98b"
      },
      "execution_count": 28,
      "outputs": [
        {
          "output_type": "execute_result",
          "data": {
            "text/plain": [
              "array([1., 1., 1.])"
            ]
          },
          "metadata": {},
          "execution_count": 28
        }
      ]
    },
    {
      "cell_type": "code",
      "source": [
        "a1 + ones"
      ],
      "metadata": {
        "colab": {
          "base_uri": "https://localhost:8080/"
        },
        "id": "mVInAP3ZTM6Q",
        "outputId": "300ebc66-97f2-4d8a-b879-59dbb59a3de5"
      },
      "execution_count": 29,
      "outputs": [
        {
          "output_type": "execute_result",
          "data": {
            "text/plain": [
              "array([2., 4., 1.])"
            ]
          },
          "metadata": {},
          "execution_count": 29
        }
      ]
    },
    {
      "cell_type": "code",
      "source": [
        "a1-ones"
      ],
      "metadata": {
        "colab": {
          "base_uri": "https://localhost:8080/"
        },
        "id": "ZqoQUlWzTYkn",
        "outputId": "436c6a96-80fc-45b3-955a-60fdefd99a8b"
      },
      "execution_count": 30,
      "outputs": [
        {
          "output_type": "execute_result",
          "data": {
            "text/plain": [
              "array([ 0.,  2., -1.])"
            ]
          },
          "metadata": {},
          "execution_count": 30
        }
      ]
    },
    {
      "cell_type": "code",
      "source": [
        "a1 * ones"
      ],
      "metadata": {
        "colab": {
          "base_uri": "https://localhost:8080/"
        },
        "id": "jTXjFMFnTi_l",
        "outputId": "5dd7db76-6f32-4c74-f657-12d39e3e9bce"
      },
      "execution_count": 31,
      "outputs": [
        {
          "output_type": "execute_result",
          "data": {
            "text/plain": [
              "array([1., 3., 0.])"
            ]
          },
          "metadata": {},
          "execution_count": 31
        }
      ]
    },
    {
      "cell_type": "code",
      "source": [
        "a2"
      ],
      "metadata": {
        "colab": {
          "base_uri": "https://localhost:8080/"
        },
        "id": "pzkHwYZBTmkS",
        "outputId": "c40ccf71-2036-410b-a200-56e973453ae1"
      },
      "execution_count": 32,
      "outputs": [
        {
          "output_type": "execute_result",
          "data": {
            "text/plain": [
              "array([[0.4, 0. , 0.5],\n",
              "       [0.4, 0.4, 0.3]])"
            ]
          },
          "metadata": {},
          "execution_count": 32
        }
      ]
    },
    {
      "cell_type": "code",
      "source": [
        "a1 * a2"
      ],
      "metadata": {
        "colab": {
          "base_uri": "https://localhost:8080/"
        },
        "id": "4inWoCxKTpOA",
        "outputId": "9b968a23-01d1-4f88-961d-412a81507b37"
      },
      "execution_count": 33,
      "outputs": [
        {
          "output_type": "execute_result",
          "data": {
            "text/plain": [
              "array([[0.4, 0. , 0. ],\n",
              "       [0.4, 1.2, 0. ]])"
            ]
          },
          "metadata": {},
          "execution_count": 33
        }
      ]
    },
    {
      "cell_type": "code",
      "source": [
        "a3"
      ],
      "metadata": {
        "colab": {
          "base_uri": "https://localhost:8080/"
        },
        "id": "TeJL8rvJTrtY",
        "outputId": "fd07afdc-d432-43c6-b71c-c3cd3d3ff5ff"
      },
      "execution_count": 34,
      "outputs": [
        {
          "output_type": "execute_result",
          "data": {
            "text/plain": [
              "array([[[10,  3,  8],\n",
              "        [ 0, 19, 10],\n",
              "        [11,  9, 10]],\n",
              "\n",
              "       [[ 6,  0, 12],\n",
              "        [ 7, 14, 17],\n",
              "        [ 2,  2,  1]]])"
            ]
          },
          "metadata": {},
          "execution_count": 34
        }
      ]
    },
    {
      "cell_type": "code",
      "source": [
        "a1 / ones"
      ],
      "metadata": {
        "colab": {
          "base_uri": "https://localhost:8080/"
        },
        "id": "tMoVhn8HT8Tr",
        "outputId": "5f9aa484-bca6-4bbd-c691-7e085e8eb75b"
      },
      "execution_count": 36,
      "outputs": [
        {
          "output_type": "execute_result",
          "data": {
            "text/plain": [
              "array([1., 3., 0.])"
            ]
          },
          "metadata": {},
          "execution_count": 36
        }
      ]
    },
    {
      "cell_type": "code",
      "source": [
        "a2 / a1"
      ],
      "metadata": {
        "colab": {
          "base_uri": "https://localhost:8080/"
        },
        "id": "AAvm7wDlT-vS",
        "outputId": "ad72a06c-75da-4f8f-eeab-c5868cfc403d"
      },
      "execution_count": 41,
      "outputs": [
        {
          "output_type": "stream",
          "name": "stderr",
          "text": [
            "<ipython-input-41-6352b1b55a84>:1: RuntimeWarning: divide by zero encountered in true_divide\n",
            "  a2 / a1\n"
          ]
        },
        {
          "output_type": "execute_result",
          "data": {
            "text/plain": [
              "array([[0.4       , 0.        ,        inf],\n",
              "       [0.4       , 0.13333333,        inf]])"
            ]
          },
          "metadata": {},
          "execution_count": 41
        }
      ]
    },
    {
      "cell_type": "code",
      "source": [
        "a2 ** 2"
      ],
      "metadata": {
        "colab": {
          "base_uri": "https://localhost:8080/"
        },
        "id": "JZxMRyO-VLs4",
        "outputId": "757115cc-2b0a-4aa7-b31c-bc5131d43076"
      },
      "execution_count": 42,
      "outputs": [
        {
          "output_type": "execute_result",
          "data": {
            "text/plain": [
              "array([[0.16, 0.  , 0.25],\n",
              "       [0.16, 0.16, 0.09]])"
            ]
          },
          "metadata": {},
          "execution_count": 42
        }
      ]
    },
    {
      "cell_type": "code",
      "source": [
        "np.square(a2)"
      ],
      "metadata": {
        "colab": {
          "base_uri": "https://localhost:8080/"
        },
        "id": "boJLKViKVjmS",
        "outputId": "8553dc50-ad5b-4622-f5e5-dfa958cceaec"
      },
      "execution_count": 43,
      "outputs": [
        {
          "output_type": "execute_result",
          "data": {
            "text/plain": [
              "array([[0.16, 0.  , 0.25],\n",
              "       [0.16, 0.16, 0.09]])"
            ]
          },
          "metadata": {},
          "execution_count": 43
        }
      ]
    },
    {
      "cell_type": "code",
      "source": [
        "np.add(a2,a1)"
      ],
      "metadata": {
        "colab": {
          "base_uri": "https://localhost:8080/"
        },
        "id": "0bw97G7fV2yi",
        "outputId": "01317091-866b-4ecd-9b42-bcb7233411e2"
      },
      "execution_count": 44,
      "outputs": [
        {
          "output_type": "execute_result",
          "data": {
            "text/plain": [
              "array([[1.4, 3. , 0.5],\n",
              "       [1.4, 3.4, 0.3]])"
            ]
          },
          "metadata": {},
          "execution_count": 44
        }
      ]
    },
    {
      "cell_type": "code",
      "source": [
        "np.log(a1)"
      ],
      "metadata": {
        "colab": {
          "base_uri": "https://localhost:8080/"
        },
        "id": "nzEQDiPAV8Lp",
        "outputId": "b2e28d0f-b891-4000-9b45-3b990bebbc4d"
      },
      "execution_count": 48,
      "outputs": [
        {
          "output_type": "stream",
          "name": "stderr",
          "text": [
            "<ipython-input-48-f50b4f369011>:1: RuntimeWarning: divide by zero encountered in log\n",
            "  np.log(a1)\n"
          ]
        },
        {
          "output_type": "execute_result",
          "data": {
            "text/plain": [
              "array([0.        , 1.09861229,       -inf])"
            ]
          },
          "metadata": {},
          "execution_count": 48
        }
      ]
    },
    {
      "cell_type": "markdown",
      "source": [
        "## Aggregation"
      ],
      "metadata": {
        "id": "q3mgVnjmW1AA"
      }
    },
    {
      "cell_type": "code",
      "source": [
        "np.sum(a1)"
      ],
      "metadata": {
        "colab": {
          "base_uri": "https://localhost:8080/"
        },
        "id": "AyIpKamwW0ow",
        "outputId": "531fd043-8e96-4e45-a816-4e104a648efc"
      },
      "execution_count": 49,
      "outputs": [
        {
          "output_type": "execute_result",
          "data": {
            "text/plain": [
              "4"
            ]
          },
          "metadata": {},
          "execution_count": 49
        }
      ]
    },
    {
      "cell_type": "code",
      "source": [
        "sum(a1)"
      ],
      "metadata": {
        "colab": {
          "base_uri": "https://localhost:8080/"
        },
        "id": "xEVPki8lXdFv",
        "outputId": "9c4178dd-d622-4bee-ebde-321b5a6dff34"
      },
      "execution_count": 50,
      "outputs": [
        {
          "output_type": "execute_result",
          "data": {
            "text/plain": [
              "4"
            ]
          },
          "metadata": {},
          "execution_count": 50
        }
      ]
    },
    {
      "cell_type": "markdown",
      "source": [
        "Rule of thumb: Use python methods eg `sum()` on python datatypes and use numpy methods eg `np.sum()` on numpy arrays"
      ],
      "metadata": {
        "id": "kpf8Yb5CXf4e"
      }
    },
    {
      "cell_type": "code",
      "source": [],
      "metadata": {
        "id": "N9ck_Z25WT8P"
      },
      "execution_count": null,
      "outputs": []
    },
    {
      "cell_type": "code",
      "source": [
        "# create a msive array\n",
        "\n",
        "massive_array = np.random.random(100000)"
      ],
      "metadata": {
        "id": "y6BWSDkAYe8L"
      },
      "execution_count": 51,
      "outputs": []
    },
    {
      "cell_type": "code",
      "source": [
        "massive_array.size"
      ],
      "metadata": {
        "colab": {
          "base_uri": "https://localhost:8080/"
        },
        "id": "014QMr7yY_w2",
        "outputId": "1cf11947-fc40-4672-a030-92b1e9301a37"
      },
      "execution_count": 52,
      "outputs": [
        {
          "output_type": "execute_result",
          "data": {
            "text/plain": [
              "100000"
            ]
          },
          "metadata": {},
          "execution_count": 52
        }
      ]
    },
    {
      "cell_type": "code",
      "source": [
        "massive_array[:10]"
      ],
      "metadata": {
        "colab": {
          "base_uri": "https://localhost:8080/"
        },
        "id": "D6EWz2F8ZEiB",
        "outputId": "1e9aee26-f33d-4b08-efe3-634863615f4c"
      },
      "execution_count": 54,
      "outputs": [
        {
          "output_type": "execute_result",
          "data": {
            "text/plain": [
              "array([0.37110618, 0.13692582, 0.11251033, 0.07228326, 0.19323909,\n",
              "       0.0029266 , 0.87679286, 0.93713451, 0.50264808, 0.74749482])"
            ]
          },
          "metadata": {},
          "execution_count": 54
        }
      ]
    },
    {
      "cell_type": "code",
      "source": [
        "%timeit sum(massive_array) # python's sum method"
      ],
      "metadata": {
        "colab": {
          "base_uri": "https://localhost:8080/"
        },
        "id": "i9vHdtSfZIbz",
        "outputId": "1df2f0be-1385-43d6-b27d-25d37853ed26"
      },
      "execution_count": 56,
      "outputs": [
        {
          "output_type": "stream",
          "name": "stdout",
          "text": [
            "6.54 ms ± 77.6 µs per loop (mean ± std. dev. of 7 runs, 100 loops each)\n"
          ]
        }
      ]
    },
    {
      "cell_type": "code",
      "source": [
        "%timeit np.sum(massive_array) # numpy's sum method"
      ],
      "metadata": {
        "colab": {
          "base_uri": "https://localhost:8080/"
        },
        "id": "wiUmkC-kZg3E",
        "outputId": "4916711c-250b-4811-9c4d-7fab8774f0ad"
      },
      "execution_count": 57,
      "outputs": [
        {
          "output_type": "stream",
          "name": "stdout",
          "text": [
            "27 µs ± 535 ns per loop (mean ± std. dev. of 7 runs, 10000 loops each)\n"
          ]
        }
      ]
    },
    {
      "cell_type": "markdown",
      "source": [
        "## Reshaping & Transposing"
      ],
      "metadata": {
        "id": "QEjDvRTFfOSA"
      }
    },
    {
      "cell_type": "code",
      "source": [
        "a2"
      ],
      "metadata": {
        "colab": {
          "base_uri": "https://localhost:8080/"
        },
        "id": "Hw78UooEfVFU",
        "outputId": "fb62f061-1c69-4313-eb04-e23c6e0b50c1"
      },
      "execution_count": 58,
      "outputs": [
        {
          "output_type": "execute_result",
          "data": {
            "text/plain": [
              "array([[0.4, 0. , 0.5],\n",
              "       [0.4, 0.4, 0.3]])"
            ]
          },
          "metadata": {},
          "execution_count": 58
        }
      ]
    },
    {
      "cell_type": "code",
      "source": [
        "a2.shape"
      ],
      "metadata": {
        "colab": {
          "base_uri": "https://localhost:8080/"
        },
        "id": "CEHFI_FifWw4",
        "outputId": "df6146a9-3df5-4f28-8924-628b7b4ab888"
      },
      "execution_count": 59,
      "outputs": [
        {
          "output_type": "execute_result",
          "data": {
            "text/plain": [
              "(2, 3)"
            ]
          },
          "metadata": {},
          "execution_count": 59
        }
      ]
    },
    {
      "cell_type": "code",
      "source": [
        "a3.shape"
      ],
      "metadata": {
        "colab": {
          "base_uri": "https://localhost:8080/"
        },
        "id": "95E9tW3lfbEt",
        "outputId": "057a1f8e-fb7b-4c2c-c40c-0cdbb0204cc0"
      },
      "execution_count": 60,
      "outputs": [
        {
          "output_type": "execute_result",
          "data": {
            "text/plain": [
              "(2, 3, 3)"
            ]
          },
          "metadata": {},
          "execution_count": 60
        }
      ]
    },
    {
      "cell_type": "code",
      "source": [
        "# a2 * a3\n",
        "\n",
        "# ValueError: operands could not be broadcast together with shapes (2,3) (2,3,3) "
      ],
      "metadata": {
        "id": "HmkNIlPelIl0"
      },
      "execution_count": null,
      "outputs": []
    },
    {
      "cell_type": "code",
      "source": [
        "a2_reshape = a2.reshape(2,3,1)\n",
        "a2_reshape"
      ],
      "metadata": {
        "colab": {
          "base_uri": "https://localhost:8080/"
        },
        "id": "V1EwWuBvfjCO",
        "outputId": "854ba5b5-6c07-473d-ce97-b450db70438f"
      },
      "execution_count": 61,
      "outputs": [
        {
          "output_type": "execute_result",
          "data": {
            "text/plain": [
              "array([[[0.4],\n",
              "        [0. ],\n",
              "        [0.5]],\n",
              "\n",
              "       [[0.4],\n",
              "        [0.4],\n",
              "        [0.3]]])"
            ]
          },
          "metadata": {},
          "execution_count": 61
        }
      ]
    },
    {
      "cell_type": "code",
      "source": [
        "a2_reshape * a3"
      ],
      "metadata": {
        "colab": {
          "base_uri": "https://localhost:8080/"
        },
        "id": "mEb6ApAIlBzS",
        "outputId": "49a525af-5afc-4e3b-d26b-3567bf760b01"
      },
      "execution_count": 63,
      "outputs": [
        {
          "output_type": "execute_result",
          "data": {
            "text/plain": [
              "array([[[4. , 1.2, 3.2],\n",
              "        [0. , 0. , 0. ],\n",
              "        [5.5, 4.5, 5. ]],\n",
              "\n",
              "       [[2.4, 0. , 4.8],\n",
              "        [2.8, 5.6, 6.8],\n",
              "        [0.6, 0.6, 0.3]]])"
            ]
          },
          "metadata": {},
          "execution_count": 63
        }
      ]
    },
    {
      "cell_type": "code",
      "source": [
        "a2\n"
      ],
      "metadata": {
        "colab": {
          "base_uri": "https://localhost:8080/"
        },
        "id": "-a5tBeeKlQiA",
        "outputId": "87d2cd5b-177f-4898-8020-204b0e6d0e17"
      },
      "execution_count": 64,
      "outputs": [
        {
          "output_type": "execute_result",
          "data": {
            "text/plain": [
              "array([[0.4, 0. , 0.5],\n",
              "       [0.4, 0.4, 0.3]])"
            ]
          },
          "metadata": {},
          "execution_count": 64
        }
      ]
    },
    {
      "cell_type": "code",
      "source": [
        "# Transpose = Switches the axis\n",
        "a2.T"
      ],
      "metadata": {
        "colab": {
          "base_uri": "https://localhost:8080/"
        },
        "id": "JFod2Xmblk1h",
        "outputId": "c260ac23-f481-4187-d929-661b501b3eb6"
      },
      "execution_count": 65,
      "outputs": [
        {
          "output_type": "execute_result",
          "data": {
            "text/plain": [
              "array([[0.4, 0.4],\n",
              "       [0. , 0.4],\n",
              "       [0.5, 0.3]])"
            ]
          },
          "metadata": {},
          "execution_count": 65
        }
      ]
    },
    {
      "cell_type": "code",
      "source": [
        "a2.shape,a2.T.shape"
      ],
      "metadata": {
        "colab": {
          "base_uri": "https://localhost:8080/"
        },
        "id": "FdYZUwVyluwV",
        "outputId": "4eb92bfc-e46e-493e-b40b-7195c3bca836"
      },
      "execution_count": 66,
      "outputs": [
        {
          "output_type": "execute_result",
          "data": {
            "text/plain": [
              "((2, 3), (3, 2))"
            ]
          },
          "metadata": {},
          "execution_count": 66
        }
      ]
    },
    {
      "cell_type": "code",
      "source": [
        "a3.T"
      ],
      "metadata": {
        "colab": {
          "base_uri": "https://localhost:8080/"
        },
        "id": "QgO58CITl7YO",
        "outputId": "bd633910-c868-43b9-fcd6-d8ed47c79fec"
      },
      "execution_count": 67,
      "outputs": [
        {
          "output_type": "execute_result",
          "data": {
            "text/plain": [
              "array([[[10,  6],\n",
              "        [ 0,  7],\n",
              "        [11,  2]],\n",
              "\n",
              "       [[ 3,  0],\n",
              "        [19, 14],\n",
              "        [ 9,  2]],\n",
              "\n",
              "       [[ 8, 12],\n",
              "        [10, 17],\n",
              "        [10,  1]]])"
            ]
          },
          "metadata": {},
          "execution_count": 67
        }
      ]
    },
    {
      "cell_type": "code",
      "source": [
        "a3.shape,a3.T.shape"
      ],
      "metadata": {
        "colab": {
          "base_uri": "https://localhost:8080/"
        },
        "id": "jnFNWYHzmTy5",
        "outputId": "19716c06-add0-48b1-feb1-281cf91b7f4a"
      },
      "execution_count": 69,
      "outputs": [
        {
          "output_type": "execute_result",
          "data": {
            "text/plain": [
              "((2, 3, 3), (3, 3, 2))"
            ]
          },
          "metadata": {},
          "execution_count": 69
        }
      ]
    },
    {
      "cell_type": "code",
      "source": [],
      "metadata": {
        "id": "6ENCAg-nmYD1"
      },
      "execution_count": null,
      "outputs": []
    }
  ]
}